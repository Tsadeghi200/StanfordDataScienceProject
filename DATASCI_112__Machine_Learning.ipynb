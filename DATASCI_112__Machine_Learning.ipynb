{
  "cells": [
    {
      "cell_type": "markdown",
      "metadata": {
        "id": "PeDeWT2q5cl_"
      },
      "source": [
        "# **MACHINE LEARNING: predicting prices that properties will be sold for**"
      ]
    },
    {
      "cell_type": "code",
      "execution_count": null,
      "metadata": {
        "id": "20jKmvh5V_tx"
      },
      "outputs": [],
      "source": [
        "import pandas as pd\n",
        "import numpy as np\n",
        "from sklearn.model_selection import cross_val_score, GridSearchCV\n",
        "from sklearn.linear_model import LinearRegression\n",
        "from sklearn.neighbors import KNeighborsRegressor\n",
        "from sklearn.ensemble import RandomForestRegressor, VotingRegressor, StackingRegressor\n",
        "from sklearn.compose import make_column_transformer\n",
        "from sklearn.preprocessing import OneHotEncoder, Normalizer, StandardScaler, MaxAbsScaler, MinMaxScaler\n",
        "from sklearn.pipeline import make_pipeline\n",
        "from sklearn.metrics import mean_squared_error\n",
        "from itertools import combinations"
      ]
    },
    {
      "cell_type": "code",
      "execution_count": null,
      "metadata": {
        "id": "YzmmPF5EWE7L"
      },
      "outputs": [],
      "source": [
        "df_sold_listings_all_ML = pd.read_csv(\"/content/df_sold_listings_ML.csv\")"
      ]
    },
    {
      "cell_type": "code",
      "execution_count": null,
      "metadata": {
        "colab": {
          "base_uri": "https://localhost:8080/"
        },
        "id": "-SlfGGkBZqv5",
        "outputId": "fcd9fa0f-8f8e-4c86-98ba-d39c341b2ac2"
      },
      "outputs": [
        {
          "output_type": "execute_result",
          "data": {
            "text/plain": [
              "Index(['dateSold', 'propertyType', 'lotAreaValue', 'address', 'zestimate',\n",
              "       'imgSrc', 'price', 'bedrooms', 'longitude', 'latitude', 'zpid',\n",
              "       'rentZestimate', 'bathrooms', 'livingArea', 'country', 'lotAreaUnit',\n",
              "       'hasImage', 'unit', 'month_year', 'price per sqft', 'geometry',\n",
              "       'neighborhood', 'group'],\n",
              "      dtype='object')"
            ]
          },
          "metadata": {},
          "execution_count": 3
        }
      ],
      "source": [
        "df_sold_listings_all_ML.columns"
      ]
    },
    {
      "cell_type": "code",
      "execution_count": null,
      "metadata": {
        "id": "0MQ5BjmefhFg"
      },
      "outputs": [],
      "source": [
        "#When trying to run k-nearest neighbors, run into an error since 77 properties have bedrooms value of NaN, drop these\n",
        "df_sold_listings_all_ML.dropna(subset=['bedrooms'], inplace=True)"
      ]
    },
    {
      "cell_type": "code",
      "execution_count": null,
      "metadata": {
        "id": "1GKbgcmYhViX"
      },
      "outputs": [],
      "source": [
        "#When trying to run k-nearest neighbors, run into an error since 1 property with bedrooms value of NaN, drop these\n",
        "df_sold_listings_all_ML.dropna(subset=['bathrooms'], inplace=True)"
      ]
    },
    {
      "cell_type": "code",
      "source": [
        "#There is another price per sqft outlier, remove it\n",
        "top_10 = df_sold_listings_all_ML.nlargest(10, 'price per sqft')\n",
        "\n",
        "pd.DataFrame(top_10).sort_values(by='price per sqft', ascending= False)"
      ],
      "metadata": {
        "colab": {
          "base_uri": "https://localhost:8080/"
        },
        "id": "ox7-N0Usbclj",
        "outputId": "c90fbfe1-f52a-4383-b276-0c1822805620"
      },
      "execution_count": null,
      "outputs": [
        {
          "output_type": "execute_result",
          "data": {
            "text/plain": [
              "                 dateSold   propertyType  lotAreaValue  \\\n",
              "2067  2023-01-13 08:00:00      APARTMENT           NaN   \n",
              "591   2022-11-07 08:00:00  SINGLE_FAMILY     7661.0000   \n",
              "1945  2023-01-31 08:00:00          CONDO           NaN   \n",
              "1910  2023-02-03 08:00:00          CONDO     6875.0000   \n",
              "1919  2023-02-03 08:00:00          CONDO        1.0853   \n",
              "199   2023-01-20 08:00:00  SINGLE_FAMILY           NaN   \n",
              "2011  2023-01-20 08:00:00  SINGLE_FAMILY           NaN   \n",
              "131   2023-02-14 08:00:00  SINGLE_FAMILY     9962.0000   \n",
              "1821  2023-02-14 08:00:00  SINGLE_FAMILY     9962.0000   \n",
              "2054  2023-01-17 08:00:00          CONDO        0.0000   \n",
              "\n",
              "                                               address   zestimate  \\\n",
              "2067             615 Rolph St, San Francisco, CA 94112         NaN   \n",
              "591          3355 Pacific Ave, San Francisco, CA 94118  24611000.0   \n",
              "1945  2121 Webster St APT 605, San Francisco, CA 94115   6466700.0   \n",
              "1910   1958 Vallejo St APT 11, San Francisco, CA 94123   8359300.0   \n",
              "1919  2121 Webster St APT 507, San Francisco, CA 94115   4955900.0   \n",
              "199         1515 Union St #6A, San Francisco, CA 94123   5275700.0   \n",
              "2011        1515 Union St #6A, San Francisco, CA 94123   5275700.0   \n",
              "131              2 Everson St, San Francisco, CA 94131   6669800.0   \n",
              "1821             2 Everson St, San Francisco, CA 94131   6669800.0   \n",
              "2054   301 Mission St APT 54B, San Francisco, CA 94105   7702900.0   \n",
              "\n",
              "                                                 imgSrc     price  bedrooms  \\\n",
              "2067  https://photos.zillowstatic.com/fp/b98345d086b...   1170000       0.0   \n",
              "591   https://maps.googleapis.com/maps/api/staticmap...  29500000       6.0   \n",
              "1945  https://photos.zillowstatic.com/fp/92e5ddf8853...   6500000       3.0   \n",
              "1910  https://photos.zillowstatic.com/fp/4aff4f8cc9b...   8400000       4.0   \n",
              "1919  https://photos.zillowstatic.com/fp/8a2e41e1750...   4980000       2.0   \n",
              "199   https://maps.googleapis.com/maps/api/staticmap...   6000000       3.0   \n",
              "2011  https://maps.googleapis.com/maps/api/staticmap...   6000000       3.0   \n",
              "131   https://photos.zillowstatic.com/fp/e03d3661d78...   8700000       4.0   \n",
              "1821  https://photos.zillowstatic.com/fp/e03d3661d78...   8700000       4.0   \n",
              "2054  https://photos.zillowstatic.com/fp/f067f533f6d...   7750000       2.0   \n",
              "\n",
              "       longitude   latitude  ...  livingArea  country  lotAreaUnit  hasImage  \\\n",
              "2067 -122.432250  37.711735  ...       150.0      USA          NaN      True   \n",
              "591  -122.450325  37.791092  ...      9081.0      USA         sqft       NaN   \n",
              "1945 -122.433174  37.790268  ...      2145.0      USA          NaN      True   \n",
              "1910 -122.429520  37.796223  ...      2920.0      USA         sqft      True   \n",
              "1919 -122.433174  37.790268  ...      1940.0      USA        acres      True   \n",
              "199  -122.424300  37.798183  ...      2362.0      USA          NaN       NaN   \n",
              "2011 -122.424300  37.798183  ...      2362.0      USA          NaN       NaN   \n",
              "131  -122.429436  37.738800  ...      3542.0      USA         sqft      True   \n",
              "1821 -122.429436  37.738800  ...      3542.0      USA         sqft      True   \n",
              "2054 -122.395930  37.790543  ...      3315.0      USA         sqft      True   \n",
              "\n",
              "         unit month_year price per sqft                       geometry  \\\n",
              "2067      NaN     1/2023    7800.000000   POINT (-122.43225 37.711735)   \n",
              "591       NaN    11/2022    3248.540910  POINT (-122.450325 37.791092)   \n",
              "1945  Apt 605     1/2023    3030.303030  POINT (-122.433174 37.790268)   \n",
              "1910   Apt 11     2/2023    2876.712329   POINT (-122.42952 37.796223)   \n",
              "1919  Apt 507     2/2023    2567.010309  POINT (-122.433174 37.790268)   \n",
              "199      # 6A     1/2023    2540.220152    POINT (-122.4243 37.798183)   \n",
              "2011     # 6A     1/2023    2540.220152    POINT (-122.4243 37.798183)   \n",
              "131       NaN     2/2023    2456.239413    POINT (-122.429436 37.7388)   \n",
              "1821      NaN     2/2023    2456.239413    POINT (-122.429436 37.7388)   \n",
              "2054  Apt 54B     1/2023    2337.858220   POINT (-122.39593 37.790543)   \n",
              "\n",
              "          neighborhood                 group  \n",
              "2067    Crocker-Amazon   high_price_low_freq  \n",
              "591   Presidio Heights   high_price_low_freq  \n",
              "1945   Pacific Heights   high_price_low_freq  \n",
              "1910   Pacific Heights   high_price_low_freq  \n",
              "1919   Pacific Heights   high_price_low_freq  \n",
              "199            unknown  high_price_high_freq  \n",
              "2011           unknown  high_price_high_freq  \n",
              "131          Fairmount  high_price_high_freq  \n",
              "1821         Fairmount  high_price_high_freq  \n",
              "2054              SoMa   high_price_low_freq  \n",
              "\n",
              "[10 rows x 23 columns]"
            ],
            "text/html": [
              "\n",
              "  <div id=\"df-ff54bd56-406e-4c66-b2ab-22a5638c9f56\">\n",
              "    <div class=\"colab-df-container\">\n",
              "      <div>\n",
              "<style scoped>\n",
              "    .dataframe tbody tr th:only-of-type {\n",
              "        vertical-align: middle;\n",
              "    }\n",
              "\n",
              "    .dataframe tbody tr th {\n",
              "        vertical-align: top;\n",
              "    }\n",
              "\n",
              "    .dataframe thead th {\n",
              "        text-align: right;\n",
              "    }\n",
              "</style>\n",
              "<table border=\"1\" class=\"dataframe\">\n",
              "  <thead>\n",
              "    <tr style=\"text-align: right;\">\n",
              "      <th></th>\n",
              "      <th>dateSold</th>\n",
              "      <th>propertyType</th>\n",
              "      <th>lotAreaValue</th>\n",
              "      <th>address</th>\n",
              "      <th>zestimate</th>\n",
              "      <th>imgSrc</th>\n",
              "      <th>price</th>\n",
              "      <th>bedrooms</th>\n",
              "      <th>longitude</th>\n",
              "      <th>latitude</th>\n",
              "      <th>...</th>\n",
              "      <th>livingArea</th>\n",
              "      <th>country</th>\n",
              "      <th>lotAreaUnit</th>\n",
              "      <th>hasImage</th>\n",
              "      <th>unit</th>\n",
              "      <th>month_year</th>\n",
              "      <th>price per sqft</th>\n",
              "      <th>geometry</th>\n",
              "      <th>neighborhood</th>\n",
              "      <th>group</th>\n",
              "    </tr>\n",
              "  </thead>\n",
              "  <tbody>\n",
              "    <tr>\n",
              "      <th>2067</th>\n",
              "      <td>2023-01-13 08:00:00</td>\n",
              "      <td>APARTMENT</td>\n",
              "      <td>NaN</td>\n",
              "      <td>615 Rolph St, San Francisco, CA 94112</td>\n",
              "      <td>NaN</td>\n",
              "      <td>https://photos.zillowstatic.com/fp/b98345d086b...</td>\n",
              "      <td>1170000</td>\n",
              "      <td>0.0</td>\n",
              "      <td>-122.432250</td>\n",
              "      <td>37.711735</td>\n",
              "      <td>...</td>\n",
              "      <td>150.0</td>\n",
              "      <td>USA</td>\n",
              "      <td>NaN</td>\n",
              "      <td>True</td>\n",
              "      <td>NaN</td>\n",
              "      <td>1/2023</td>\n",
              "      <td>7800.000000</td>\n",
              "      <td>POINT (-122.43225 37.711735)</td>\n",
              "      <td>Crocker-Amazon</td>\n",
              "      <td>high_price_low_freq</td>\n",
              "    </tr>\n",
              "    <tr>\n",
              "      <th>591</th>\n",
              "      <td>2022-11-07 08:00:00</td>\n",
              "      <td>SINGLE_FAMILY</td>\n",
              "      <td>7661.0000</td>\n",
              "      <td>3355 Pacific Ave, San Francisco, CA 94118</td>\n",
              "      <td>24611000.0</td>\n",
              "      <td>https://maps.googleapis.com/maps/api/staticmap...</td>\n",
              "      <td>29500000</td>\n",
              "      <td>6.0</td>\n",
              "      <td>-122.450325</td>\n",
              "      <td>37.791092</td>\n",
              "      <td>...</td>\n",
              "      <td>9081.0</td>\n",
              "      <td>USA</td>\n",
              "      <td>sqft</td>\n",
              "      <td>NaN</td>\n",
              "      <td>NaN</td>\n",
              "      <td>11/2022</td>\n",
              "      <td>3248.540910</td>\n",
              "      <td>POINT (-122.450325 37.791092)</td>\n",
              "      <td>Presidio Heights</td>\n",
              "      <td>high_price_low_freq</td>\n",
              "    </tr>\n",
              "    <tr>\n",
              "      <th>1945</th>\n",
              "      <td>2023-01-31 08:00:00</td>\n",
              "      <td>CONDO</td>\n",
              "      <td>NaN</td>\n",
              "      <td>2121 Webster St APT 605, San Francisco, CA 94115</td>\n",
              "      <td>6466700.0</td>\n",
              "      <td>https://photos.zillowstatic.com/fp/92e5ddf8853...</td>\n",
              "      <td>6500000</td>\n",
              "      <td>3.0</td>\n",
              "      <td>-122.433174</td>\n",
              "      <td>37.790268</td>\n",
              "      <td>...</td>\n",
              "      <td>2145.0</td>\n",
              "      <td>USA</td>\n",
              "      <td>NaN</td>\n",
              "      <td>True</td>\n",
              "      <td>Apt 605</td>\n",
              "      <td>1/2023</td>\n",
              "      <td>3030.303030</td>\n",
              "      <td>POINT (-122.433174 37.790268)</td>\n",
              "      <td>Pacific Heights</td>\n",
              "      <td>high_price_low_freq</td>\n",
              "    </tr>\n",
              "    <tr>\n",
              "      <th>1910</th>\n",
              "      <td>2023-02-03 08:00:00</td>\n",
              "      <td>CONDO</td>\n",
              "      <td>6875.0000</td>\n",
              "      <td>1958 Vallejo St APT 11, San Francisco, CA 94123</td>\n",
              "      <td>8359300.0</td>\n",
              "      <td>https://photos.zillowstatic.com/fp/4aff4f8cc9b...</td>\n",
              "      <td>8400000</td>\n",
              "      <td>4.0</td>\n",
              "      <td>-122.429520</td>\n",
              "      <td>37.796223</td>\n",
              "      <td>...</td>\n",
              "      <td>2920.0</td>\n",
              "      <td>USA</td>\n",
              "      <td>sqft</td>\n",
              "      <td>True</td>\n",
              "      <td>Apt 11</td>\n",
              "      <td>2/2023</td>\n",
              "      <td>2876.712329</td>\n",
              "      <td>POINT (-122.42952 37.796223)</td>\n",
              "      <td>Pacific Heights</td>\n",
              "      <td>high_price_low_freq</td>\n",
              "    </tr>\n",
              "    <tr>\n",
              "      <th>1919</th>\n",
              "      <td>2023-02-03 08:00:00</td>\n",
              "      <td>CONDO</td>\n",
              "      <td>1.0853</td>\n",
              "      <td>2121 Webster St APT 507, San Francisco, CA 94115</td>\n",
              "      <td>4955900.0</td>\n",
              "      <td>https://photos.zillowstatic.com/fp/8a2e41e1750...</td>\n",
              "      <td>4980000</td>\n",
              "      <td>2.0</td>\n",
              "      <td>-122.433174</td>\n",
              "      <td>37.790268</td>\n",
              "      <td>...</td>\n",
              "      <td>1940.0</td>\n",
              "      <td>USA</td>\n",
              "      <td>acres</td>\n",
              "      <td>True</td>\n",
              "      <td>Apt 507</td>\n",
              "      <td>2/2023</td>\n",
              "      <td>2567.010309</td>\n",
              "      <td>POINT (-122.433174 37.790268)</td>\n",
              "      <td>Pacific Heights</td>\n",
              "      <td>high_price_low_freq</td>\n",
              "    </tr>\n",
              "    <tr>\n",
              "      <th>199</th>\n",
              "      <td>2023-01-20 08:00:00</td>\n",
              "      <td>SINGLE_FAMILY</td>\n",
              "      <td>NaN</td>\n",
              "      <td>1515 Union St #6A, San Francisco, CA 94123</td>\n",
              "      <td>5275700.0</td>\n",
              "      <td>https://maps.googleapis.com/maps/api/staticmap...</td>\n",
              "      <td>6000000</td>\n",
              "      <td>3.0</td>\n",
              "      <td>-122.424300</td>\n",
              "      <td>37.798183</td>\n",
              "      <td>...</td>\n",
              "      <td>2362.0</td>\n",
              "      <td>USA</td>\n",
              "      <td>NaN</td>\n",
              "      <td>NaN</td>\n",
              "      <td># 6A</td>\n",
              "      <td>1/2023</td>\n",
              "      <td>2540.220152</td>\n",
              "      <td>POINT (-122.4243 37.798183)</td>\n",
              "      <td>unknown</td>\n",
              "      <td>high_price_high_freq</td>\n",
              "    </tr>\n",
              "    <tr>\n",
              "      <th>2011</th>\n",
              "      <td>2023-01-20 08:00:00</td>\n",
              "      <td>SINGLE_FAMILY</td>\n",
              "      <td>NaN</td>\n",
              "      <td>1515 Union St #6A, San Francisco, CA 94123</td>\n",
              "      <td>5275700.0</td>\n",
              "      <td>https://maps.googleapis.com/maps/api/staticmap...</td>\n",
              "      <td>6000000</td>\n",
              "      <td>3.0</td>\n",
              "      <td>-122.424300</td>\n",
              "      <td>37.798183</td>\n",
              "      <td>...</td>\n",
              "      <td>2362.0</td>\n",
              "      <td>USA</td>\n",
              "      <td>NaN</td>\n",
              "      <td>NaN</td>\n",
              "      <td># 6A</td>\n",
              "      <td>1/2023</td>\n",
              "      <td>2540.220152</td>\n",
              "      <td>POINT (-122.4243 37.798183)</td>\n",
              "      <td>unknown</td>\n",
              "      <td>high_price_high_freq</td>\n",
              "    </tr>\n",
              "    <tr>\n",
              "      <th>131</th>\n",
              "      <td>2023-02-14 08:00:00</td>\n",
              "      <td>SINGLE_FAMILY</td>\n",
              "      <td>9962.0000</td>\n",
              "      <td>2 Everson St, San Francisco, CA 94131</td>\n",
              "      <td>6669800.0</td>\n",
              "      <td>https://photos.zillowstatic.com/fp/e03d3661d78...</td>\n",
              "      <td>8700000</td>\n",
              "      <td>4.0</td>\n",
              "      <td>-122.429436</td>\n",
              "      <td>37.738800</td>\n",
              "      <td>...</td>\n",
              "      <td>3542.0</td>\n",
              "      <td>USA</td>\n",
              "      <td>sqft</td>\n",
              "      <td>True</td>\n",
              "      <td>NaN</td>\n",
              "      <td>2/2023</td>\n",
              "      <td>2456.239413</td>\n",
              "      <td>POINT (-122.429436 37.7388)</td>\n",
              "      <td>Fairmount</td>\n",
              "      <td>high_price_high_freq</td>\n",
              "    </tr>\n",
              "    <tr>\n",
              "      <th>1821</th>\n",
              "      <td>2023-02-14 08:00:00</td>\n",
              "      <td>SINGLE_FAMILY</td>\n",
              "      <td>9962.0000</td>\n",
              "      <td>2 Everson St, San Francisco, CA 94131</td>\n",
              "      <td>6669800.0</td>\n",
              "      <td>https://photos.zillowstatic.com/fp/e03d3661d78...</td>\n",
              "      <td>8700000</td>\n",
              "      <td>4.0</td>\n",
              "      <td>-122.429436</td>\n",
              "      <td>37.738800</td>\n",
              "      <td>...</td>\n",
              "      <td>3542.0</td>\n",
              "      <td>USA</td>\n",
              "      <td>sqft</td>\n",
              "      <td>True</td>\n",
              "      <td>NaN</td>\n",
              "      <td>2/2023</td>\n",
              "      <td>2456.239413</td>\n",
              "      <td>POINT (-122.429436 37.7388)</td>\n",
              "      <td>Fairmount</td>\n",
              "      <td>high_price_high_freq</td>\n",
              "    </tr>\n",
              "    <tr>\n",
              "      <th>2054</th>\n",
              "      <td>2023-01-17 08:00:00</td>\n",
              "      <td>CONDO</td>\n",
              "      <td>0.0000</td>\n",
              "      <td>301 Mission St APT 54B, San Francisco, CA 94105</td>\n",
              "      <td>7702900.0</td>\n",
              "      <td>https://photos.zillowstatic.com/fp/f067f533f6d...</td>\n",
              "      <td>7750000</td>\n",
              "      <td>2.0</td>\n",
              "      <td>-122.395930</td>\n",
              "      <td>37.790543</td>\n",
              "      <td>...</td>\n",
              "      <td>3315.0</td>\n",
              "      <td>USA</td>\n",
              "      <td>sqft</td>\n",
              "      <td>True</td>\n",
              "      <td>Apt 54B</td>\n",
              "      <td>1/2023</td>\n",
              "      <td>2337.858220</td>\n",
              "      <td>POINT (-122.39593 37.790543)</td>\n",
              "      <td>SoMa</td>\n",
              "      <td>high_price_low_freq</td>\n",
              "    </tr>\n",
              "  </tbody>\n",
              "</table>\n",
              "<p>10 rows × 23 columns</p>\n",
              "</div>\n",
              "      <button class=\"colab-df-convert\" onclick=\"convertToInteractive('df-ff54bd56-406e-4c66-b2ab-22a5638c9f56')\"\n",
              "              title=\"Convert this dataframe to an interactive table.\"\n",
              "              style=\"display:none;\">\n",
              "        \n",
              "  <svg xmlns=\"http://www.w3.org/2000/svg\" height=\"24px\"viewBox=\"0 0 24 24\"\n",
              "       width=\"24px\">\n",
              "    <path d=\"M0 0h24v24H0V0z\" fill=\"none\"/>\n",
              "    <path d=\"M18.56 5.44l.94 2.06.94-2.06 2.06-.94-2.06-.94-.94-2.06-.94 2.06-2.06.94zm-11 1L8.5 8.5l.94-2.06 2.06-.94-2.06-.94L8.5 2.5l-.94 2.06-2.06.94zm10 10l.94 2.06.94-2.06 2.06-.94-2.06-.94-.94-2.06-.94 2.06-2.06.94z\"/><path d=\"M17.41 7.96l-1.37-1.37c-.4-.4-.92-.59-1.43-.59-.52 0-1.04.2-1.43.59L10.3 9.45l-7.72 7.72c-.78.78-.78 2.05 0 2.83L4 21.41c.39.39.9.59 1.41.59.51 0 1.02-.2 1.41-.59l7.78-7.78 2.81-2.81c.8-.78.8-2.07 0-2.86zM5.41 20L4 18.59l7.72-7.72 1.47 1.35L5.41 20z\"/>\n",
              "  </svg>\n",
              "      </button>\n",
              "      \n",
              "  <style>\n",
              "    .colab-df-container {\n",
              "      display:flex;\n",
              "      flex-wrap:wrap;\n",
              "      gap: 12px;\n",
              "    }\n",
              "\n",
              "    .colab-df-convert {\n",
              "      background-color: #E8F0FE;\n",
              "      border: none;\n",
              "      border-radius: 50%;\n",
              "      cursor: pointer;\n",
              "      display: none;\n",
              "      fill: #1967D2;\n",
              "      height: 32px;\n",
              "      padding: 0 0 0 0;\n",
              "      width: 32px;\n",
              "    }\n",
              "\n",
              "    .colab-df-convert:hover {\n",
              "      background-color: #E2EBFA;\n",
              "      box-shadow: 0px 1px 2px rgba(60, 64, 67, 0.3), 0px 1px 3px 1px rgba(60, 64, 67, 0.15);\n",
              "      fill: #174EA6;\n",
              "    }\n",
              "\n",
              "    [theme=dark] .colab-df-convert {\n",
              "      background-color: #3B4455;\n",
              "      fill: #D2E3FC;\n",
              "    }\n",
              "\n",
              "    [theme=dark] .colab-df-convert:hover {\n",
              "      background-color: #434B5C;\n",
              "      box-shadow: 0px 1px 3px 1px rgba(0, 0, 0, 0.15);\n",
              "      filter: drop-shadow(0px 1px 2px rgba(0, 0, 0, 0.3));\n",
              "      fill: #FFFFFF;\n",
              "    }\n",
              "  </style>\n",
              "\n",
              "      <script>\n",
              "        const buttonEl =\n",
              "          document.querySelector('#df-ff54bd56-406e-4c66-b2ab-22a5638c9f56 button.colab-df-convert');\n",
              "        buttonEl.style.display =\n",
              "          google.colab.kernel.accessAllowed ? 'block' : 'none';\n",
              "\n",
              "        async function convertToInteractive(key) {\n",
              "          const element = document.querySelector('#df-ff54bd56-406e-4c66-b2ab-22a5638c9f56');\n",
              "          const dataTable =\n",
              "            await google.colab.kernel.invokeFunction('convertToInteractive',\n",
              "                                                     [key], {});\n",
              "          if (!dataTable) return;\n",
              "\n",
              "          const docLinkHtml = 'Like what you see? Visit the ' +\n",
              "            '<a target=\"_blank\" href=https://colab.research.google.com/notebooks/data_table.ipynb>data table notebook</a>'\n",
              "            + ' to learn more about interactive tables.';\n",
              "          element.innerHTML = '';\n",
              "          dataTable['output_type'] = 'display_data';\n",
              "          await google.colab.output.renderOutput(dataTable, element);\n",
              "          const docLink = document.createElement('div');\n",
              "          docLink.innerHTML = docLinkHtml;\n",
              "          element.appendChild(docLink);\n",
              "        }\n",
              "      </script>\n",
              "    </div>\n",
              "  </div>\n",
              "  "
            ]
          },
          "metadata": {},
          "execution_count": 6
        }
      ]
    },
    {
      "cell_type": "code",
      "source": [
        "# Find the index of the row with the specified address\n",
        "idx_to_drop = df_sold_listings_all_ML.index[df_sold_listings_all_ML['address'] == '615 Rolph St, San Francisco, CA 94112'][0]\n",
        "\n",
        "# Drop the row using the index\n",
        "df_sold_listings_all_ML = df_sold_listings_all_ML.drop(idx_to_drop)"
      ],
      "metadata": {
        "id": "CsAwIXWGb_5l"
      },
      "execution_count": null,
      "outputs": []
    },
    {
      "cell_type": "code",
      "source": [
        "#There is another price per sqft outlier, remove it\n",
        "top_10 = df_sold_listings_all_ML.nlargest(10, 'price')"
      ],
      "metadata": {
        "id": "t_gM3jisnZAm"
      },
      "execution_count": null,
      "outputs": []
    },
    {
      "cell_type": "code",
      "source": [
        "# There is another outlier at price of $29.5M, find the index of the row with the specified address\n",
        "idx_to_drop = df_sold_listings_all_ML.index[df_sold_listings_all_ML['address'] == '3355 Pacific Ave, San Francisco, CA 94118'][0]\n",
        "\n",
        "# Drop the row using the index\n",
        "df_sold_listings_all_ML = df_sold_listings_all_ML.drop(idx_to_drop)"
      ],
      "metadata": {
        "id": "by-lOxHBnoEY"
      },
      "execution_count": null,
      "outputs": []
    },
    {
      "cell_type": "markdown",
      "source": [
        "I am trying to predict price, a quantitative variable, so will be using regression models."
      ],
      "metadata": {
        "id": "ItoxiVA_-cuz"
      }
    },
    {
      "cell_type": "markdown",
      "source": [
        "# **K-Nearest neighbors**"
      ],
      "metadata": {
        "id": "nRdwcEI3-WtJ"
      }
    },
    {
      "cell_type": "markdown",
      "source": [
        "The features that I will be using for the ML models are: propertyType, bedrooms, bathrooms, livingArea, price per sqft, and group. I will explore the combination of features to see which ones will produce the best model."
      ],
      "metadata": {
        "id": "ruJ6uPi8B_Go"
      }
    },
    {
      "cell_type": "code",
      "execution_count": null,
      "metadata": {
        "id": "T9uTYpLThO0s"
      },
      "outputs": [],
      "source": [
        "features = list(df_sold_listings_all_ML.columns.drop([\"dateSold\", \"lotAreaValue\", \"zestimate\", \"imgSrc\", \"longitude\", \"latitude\", \"zpid\", \"rentZestimate\", \"country\", \"lotAreaUnit\", \"hasImage\", \"unit\", \"month_year\", \"geometry\", \"neighborhood\", \"address\", \"price\", \"price per sqft\", \"group\"]))\n",
        "cat_vars = [\"propertyType\"]\n",
        "quant_vars = [f for f in features if f not in cat_vars]\n",
        "base_features = cat_vars\n",
        "misc_features = quant_vars.copy()\n",
        "\n",
        "y_train = df_sold_listings_all_ML[\"price\"]"
      ]
    },
    {
      "cell_type": "code",
      "source": [
        "features"
      ],
      "metadata": {
        "colab": {
          "base_uri": "https://localhost:8080/"
        },
        "id": "eMsEFKcBWOfn",
        "outputId": "f8ea4fb9-9ac3-4c52-9ffe-2f6ab7fd96e9"
      },
      "execution_count": null,
      "outputs": [
        {
          "output_type": "execute_result",
          "data": {
            "text/plain": [
              "['propertyType', 'bedrooms', 'bathrooms', 'livingArea']"
            ]
          },
          "metadata": {},
          "execution_count": 11
        }
      ]
    },
    {
      "cell_type": "code",
      "execution_count": null,
      "metadata": {
        "colab": {
          "base_uri": "https://localhost:8080/",
          "height": 192
        },
        "id": "l_G1FOzVabh8",
        "outputId": "65434b29-09dd-46e9-f8cd-ec0a7a928d4c"
      },
      "outputs": [
        {
          "output_type": "execute_result",
          "data": {
            "text/plain": [
              "Pipeline(steps=[('columntransformer',\n",
              "                 ColumnTransformer(remainder='passthrough',\n",
              "                                   transformers=[('standardscaler',\n",
              "                                                  StandardScaler(),\n",
              "                                                  ['bedrooms', 'bathrooms',\n",
              "                                                   'livingArea']),\n",
              "                                                 ('onehotencoder',\n",
              "                                                  OneHotEncoder(handle_unknown='ignore'),\n",
              "                                                  ['propertyType'])])),\n",
              "                ('kneighborsregressor',\n",
              "                 KNeighborsRegressor(metric='euclidean', n_neighbors=7))])"
            ],
            "text/html": [
              "<style>#sk-container-id-1 {color: black;background-color: white;}#sk-container-id-1 pre{padding: 0;}#sk-container-id-1 div.sk-toggleable {background-color: white;}#sk-container-id-1 label.sk-toggleable__label {cursor: pointer;display: block;width: 100%;margin-bottom: 0;padding: 0.3em;box-sizing: border-box;text-align: center;}#sk-container-id-1 label.sk-toggleable__label-arrow:before {content: \"▸\";float: left;margin-right: 0.25em;color: #696969;}#sk-container-id-1 label.sk-toggleable__label-arrow:hover:before {color: black;}#sk-container-id-1 div.sk-estimator:hover label.sk-toggleable__label-arrow:before {color: black;}#sk-container-id-1 div.sk-toggleable__content {max-height: 0;max-width: 0;overflow: hidden;text-align: left;background-color: #f0f8ff;}#sk-container-id-1 div.sk-toggleable__content pre {margin: 0.2em;color: black;border-radius: 0.25em;background-color: #f0f8ff;}#sk-container-id-1 input.sk-toggleable__control:checked~div.sk-toggleable__content {max-height: 200px;max-width: 100%;overflow: auto;}#sk-container-id-1 input.sk-toggleable__control:checked~label.sk-toggleable__label-arrow:before {content: \"▾\";}#sk-container-id-1 div.sk-estimator input.sk-toggleable__control:checked~label.sk-toggleable__label {background-color: #d4ebff;}#sk-container-id-1 div.sk-label input.sk-toggleable__control:checked~label.sk-toggleable__label {background-color: #d4ebff;}#sk-container-id-1 input.sk-hidden--visually {border: 0;clip: rect(1px 1px 1px 1px);clip: rect(1px, 1px, 1px, 1px);height: 1px;margin: -1px;overflow: hidden;padding: 0;position: absolute;width: 1px;}#sk-container-id-1 div.sk-estimator {font-family: monospace;background-color: #f0f8ff;border: 1px dotted black;border-radius: 0.25em;box-sizing: border-box;margin-bottom: 0.5em;}#sk-container-id-1 div.sk-estimator:hover {background-color: #d4ebff;}#sk-container-id-1 div.sk-parallel-item::after {content: \"\";width: 100%;border-bottom: 1px solid gray;flex-grow: 1;}#sk-container-id-1 div.sk-label:hover label.sk-toggleable__label {background-color: #d4ebff;}#sk-container-id-1 div.sk-serial::before {content: \"\";position: absolute;border-left: 1px solid gray;box-sizing: border-box;top: 0;bottom: 0;left: 50%;z-index: 0;}#sk-container-id-1 div.sk-serial {display: flex;flex-direction: column;align-items: center;background-color: white;padding-right: 0.2em;padding-left: 0.2em;position: relative;}#sk-container-id-1 div.sk-item {position: relative;z-index: 1;}#sk-container-id-1 div.sk-parallel {display: flex;align-items: stretch;justify-content: center;background-color: white;position: relative;}#sk-container-id-1 div.sk-item::before, #sk-container-id-1 div.sk-parallel-item::before {content: \"\";position: absolute;border-left: 1px solid gray;box-sizing: border-box;top: 0;bottom: 0;left: 50%;z-index: -1;}#sk-container-id-1 div.sk-parallel-item {display: flex;flex-direction: column;z-index: 1;position: relative;background-color: white;}#sk-container-id-1 div.sk-parallel-item:first-child::after {align-self: flex-end;width: 50%;}#sk-container-id-1 div.sk-parallel-item:last-child::after {align-self: flex-start;width: 50%;}#sk-container-id-1 div.sk-parallel-item:only-child::after {width: 0;}#sk-container-id-1 div.sk-dashed-wrapped {border: 1px dashed gray;margin: 0 0.4em 0.5em 0.4em;box-sizing: border-box;padding-bottom: 0.4em;background-color: white;}#sk-container-id-1 div.sk-label label {font-family: monospace;font-weight: bold;display: inline-block;line-height: 1.2em;}#sk-container-id-1 div.sk-label-container {text-align: center;}#sk-container-id-1 div.sk-container {/* jupyter's `normalize.less` sets `[hidden] { display: none; }` but bootstrap.min.css set `[hidden] { display: none !important; }` so we also need the `!important` here to be able to override the default hidden behavior on the sphinx rendered scikit-learn.org. See: https://github.com/scikit-learn/scikit-learn/issues/21755 */display: inline-block !important;position: relative;}#sk-container-id-1 div.sk-text-repr-fallback {display: none;}</style><div id=\"sk-container-id-1\" class=\"sk-top-container\"><div class=\"sk-text-repr-fallback\"><pre>Pipeline(steps=[(&#x27;columntransformer&#x27;,\n",
              "                 ColumnTransformer(remainder=&#x27;passthrough&#x27;,\n",
              "                                   transformers=[(&#x27;standardscaler&#x27;,\n",
              "                                                  StandardScaler(),\n",
              "                                                  [&#x27;bedrooms&#x27;, &#x27;bathrooms&#x27;,\n",
              "                                                   &#x27;livingArea&#x27;]),\n",
              "                                                 (&#x27;onehotencoder&#x27;,\n",
              "                                                  OneHotEncoder(handle_unknown=&#x27;ignore&#x27;),\n",
              "                                                  [&#x27;propertyType&#x27;])])),\n",
              "                (&#x27;kneighborsregressor&#x27;,\n",
              "                 KNeighborsRegressor(metric=&#x27;euclidean&#x27;, n_neighbors=7))])</pre><b>In a Jupyter environment, please rerun this cell to show the HTML representation or trust the notebook. <br />On GitHub, the HTML representation is unable to render, please try loading this page with nbviewer.org.</b></div><div class=\"sk-container\" hidden><div class=\"sk-item sk-dashed-wrapped\"><div class=\"sk-label-container\"><div class=\"sk-label sk-toggleable\"><input class=\"sk-toggleable__control sk-hidden--visually\" id=\"sk-estimator-id-1\" type=\"checkbox\" ><label for=\"sk-estimator-id-1\" class=\"sk-toggleable__label sk-toggleable__label-arrow\">Pipeline</label><div class=\"sk-toggleable__content\"><pre>Pipeline(steps=[(&#x27;columntransformer&#x27;,\n",
              "                 ColumnTransformer(remainder=&#x27;passthrough&#x27;,\n",
              "                                   transformers=[(&#x27;standardscaler&#x27;,\n",
              "                                                  StandardScaler(),\n",
              "                                                  [&#x27;bedrooms&#x27;, &#x27;bathrooms&#x27;,\n",
              "                                                   &#x27;livingArea&#x27;]),\n",
              "                                                 (&#x27;onehotencoder&#x27;,\n",
              "                                                  OneHotEncoder(handle_unknown=&#x27;ignore&#x27;),\n",
              "                                                  [&#x27;propertyType&#x27;])])),\n",
              "                (&#x27;kneighborsregressor&#x27;,\n",
              "                 KNeighborsRegressor(metric=&#x27;euclidean&#x27;, n_neighbors=7))])</pre></div></div></div><div class=\"sk-serial\"><div class=\"sk-item sk-dashed-wrapped\"><div class=\"sk-label-container\"><div class=\"sk-label sk-toggleable\"><input class=\"sk-toggleable__control sk-hidden--visually\" id=\"sk-estimator-id-2\" type=\"checkbox\" ><label for=\"sk-estimator-id-2\" class=\"sk-toggleable__label sk-toggleable__label-arrow\">columntransformer: ColumnTransformer</label><div class=\"sk-toggleable__content\"><pre>ColumnTransformer(remainder=&#x27;passthrough&#x27;,\n",
              "                  transformers=[(&#x27;standardscaler&#x27;, StandardScaler(),\n",
              "                                 [&#x27;bedrooms&#x27;, &#x27;bathrooms&#x27;, &#x27;livingArea&#x27;]),\n",
              "                                (&#x27;onehotencoder&#x27;,\n",
              "                                 OneHotEncoder(handle_unknown=&#x27;ignore&#x27;),\n",
              "                                 [&#x27;propertyType&#x27;])])</pre></div></div></div><div class=\"sk-parallel\"><div class=\"sk-parallel-item\"><div class=\"sk-item\"><div class=\"sk-label-container\"><div class=\"sk-label sk-toggleable\"><input class=\"sk-toggleable__control sk-hidden--visually\" id=\"sk-estimator-id-3\" type=\"checkbox\" ><label for=\"sk-estimator-id-3\" class=\"sk-toggleable__label sk-toggleable__label-arrow\">standardscaler</label><div class=\"sk-toggleable__content\"><pre>[&#x27;bedrooms&#x27;, &#x27;bathrooms&#x27;, &#x27;livingArea&#x27;]</pre></div></div></div><div class=\"sk-serial\"><div class=\"sk-item\"><div class=\"sk-estimator sk-toggleable\"><input class=\"sk-toggleable__control sk-hidden--visually\" id=\"sk-estimator-id-4\" type=\"checkbox\" ><label for=\"sk-estimator-id-4\" class=\"sk-toggleable__label sk-toggleable__label-arrow\">StandardScaler</label><div class=\"sk-toggleable__content\"><pre>StandardScaler()</pre></div></div></div></div></div></div><div class=\"sk-parallel-item\"><div class=\"sk-item\"><div class=\"sk-label-container\"><div class=\"sk-label sk-toggleable\"><input class=\"sk-toggleable__control sk-hidden--visually\" id=\"sk-estimator-id-5\" type=\"checkbox\" ><label for=\"sk-estimator-id-5\" class=\"sk-toggleable__label sk-toggleable__label-arrow\">onehotencoder</label><div class=\"sk-toggleable__content\"><pre>[&#x27;propertyType&#x27;]</pre></div></div></div><div class=\"sk-serial\"><div class=\"sk-item\"><div class=\"sk-estimator sk-toggleable\"><input class=\"sk-toggleable__control sk-hidden--visually\" id=\"sk-estimator-id-6\" type=\"checkbox\" ><label for=\"sk-estimator-id-6\" class=\"sk-toggleable__label sk-toggleable__label-arrow\">OneHotEncoder</label><div class=\"sk-toggleable__content\"><pre>OneHotEncoder(handle_unknown=&#x27;ignore&#x27;)</pre></div></div></div></div></div></div><div class=\"sk-parallel-item\"><div class=\"sk-item\"><div class=\"sk-label-container\"><div class=\"sk-label sk-toggleable\"><input class=\"sk-toggleable__control sk-hidden--visually\" id=\"sk-estimator-id-7\" type=\"checkbox\" ><label for=\"sk-estimator-id-7\" class=\"sk-toggleable__label sk-toggleable__label-arrow\">remainder</label><div class=\"sk-toggleable__content\"><pre>[]</pre></div></div></div><div class=\"sk-serial\"><div class=\"sk-item\"><div class=\"sk-estimator sk-toggleable\"><input class=\"sk-toggleable__control sk-hidden--visually\" id=\"sk-estimator-id-8\" type=\"checkbox\" ><label for=\"sk-estimator-id-8\" class=\"sk-toggleable__label sk-toggleable__label-arrow\">passthrough</label><div class=\"sk-toggleable__content\"><pre>passthrough</pre></div></div></div></div></div></div></div></div><div class=\"sk-item\"><div class=\"sk-estimator sk-toggleable\"><input class=\"sk-toggleable__control sk-hidden--visually\" id=\"sk-estimator-id-9\" type=\"checkbox\" ><label for=\"sk-estimator-id-9\" class=\"sk-toggleable__label sk-toggleable__label-arrow\">KNeighborsRegressor</label><div class=\"sk-toggleable__content\"><pre>KNeighborsRegressor(metric=&#x27;euclidean&#x27;, n_neighbors=7)</pre></div></div></div></div></div></div></div>"
            ]
          },
          "metadata": {},
          "execution_count": 12
        }
      ],
      "source": [
        "X_train = df_sold_listings_all_ML[features]\n",
        "\n",
        "# Column transformer for specified features\n",
        "transformer = make_column_transformer(\n",
        "    (StandardScaler(), quant_vars),\n",
        "    (OneHotEncoder(handle_unknown=\"ignore\"), cat_vars),\n",
        "    remainder=\"passthrough\"\n",
        ")\n",
        "\n",
        "pipeline = make_pipeline(\n",
        "    transformer,\n",
        "    KNeighborsRegressor(n_neighbors=20, metric=\"euclidean\")\n",
        ")\n",
        "\n",
        "clf = GridSearchCV(pipeline,\n",
        "                   param_grid={\n",
        "                       \"kneighborsregressor__n_neighbors\": range(1, 20)\n",
        "                       },\n",
        "                   scoring=\"neg_mean_squared_error\",\n",
        "                   cv=10)\n",
        "clf.fit(X_train, y_train)\n",
        "clf.best_estimator_"
      ]
    },
    {
      "cell_type": "code",
      "execution_count": null,
      "metadata": {
        "id": "qoM6mIxxhwwB",
        "colab": {
          "base_uri": "https://localhost:8080/",
          "height": 553
        },
        "outputId": "ce238b9f-c36f-415d-95c7-d755458b80a0"
      },
      "outputs": [
        {
          "output_type": "execute_result",
          "data": {
            "text/plain": [
              "7     636671.990210\n",
              "10    638786.112222\n",
              "dtype: float64"
            ]
          },
          "metadata": {},
          "execution_count": 13
        },
        {
          "output_type": "display_data",
          "data": {
            "text/plain": [
              "<Figure size 1080x576 with 1 Axes>"
            ],
            "image/png": "[encoded data removed]"
          },
          "metadata": {
            "needs_background": "light"
          }
        }
      ],
      "source": [
        "results = clf.cv_results_\n",
        "\n",
        "# Get a series containing the RMSE for each k\n",
        "cv_rmse = pd.Series(\n",
        "            np.sqrt(-results[\"mean_test_score\"]),\n",
        "            index=results[\"param_kneighborsregressor__n_neighbors\"]\n",
        "            )\n",
        "\n",
        "cv_rmse.plot.line(legend=True, label=\"Validation RMSE\", figsize=(15, 8), title=\"Validation RMSE vs K\")\n",
        "cv_rmse.sort_values().head(2)"
      ]
    },
    {
      "cell_type": "markdown",
      "metadata": {
        "id": "nk8SF7IkiR8-"
      },
      "source": [
        "K=2, seems to produce the lowest RMSE error"
      ]
    },
    {
      "cell_type": "code",
      "execution_count": null,
      "metadata": {
        "id": "2NFWP6dDiRvK"
      },
      "outputs": [],
      "source": [
        "#explore feature combinations\n",
        "misc_feat_combos = [[]]\n",
        "\n",
        "# Get all combinations of features\n",
        "for r in range(1, len(misc_features) + 1):\n",
        "  misc_feat_combos.extend(list(combinations(misc_features, r)))\n",
        "\n",
        "# Convert all into list of list of features\n",
        "for i in range(len(misc_feat_combos)):\n",
        "  misc_feat_combos[i] = list(misc_feat_combos[i])\n",
        ""
      ]
    },
    {
      "cell_type": "code",
      "source": [
        "def try_diff_features(model):\n",
        "  rmse_series = pd.Series()\n",
        "\n",
        "  for feat_combo in misc_feat_combos:\n",
        "    ct = make_column_transformer(\n",
        "        (StandardScaler(), feat_combo),\n",
        "        (OneHotEncoder(handle_unknown=\"ignore\"), cat_vars),\n",
        "        remainder=\"passthrough\"\n",
        "    )\n",
        "\n",
        "    pipeline = make_pipeline(ct, model)\n",
        "    train_features = base_features + feat_combo\n",
        "    cv_errs = -cross_val_score(pipeline,\n",
        "                                X=df_sold_listings_all_ML[train_features],\n",
        "                                y=y_train,\n",
        "                                scoring=\"neg_mean_squared_error\", cv=10)\n",
        "    rmse = np.sqrt(cv_errs.mean())\n",
        "    rmse_series[str(feat_combo)] = rmse\n",
        "\n",
        "  return rmse_series\n",
        ""
      ],
      "metadata": {
        "id": "YZZJ7QHET9bk"
      },
      "execution_count": null,
      "outputs": []
    },
    {
      "cell_type": "code",
      "source": [
        "knearest_rmse_misc = try_diff_features(KNeighborsRegressor(n_neighbors=1, metric=\"euclidean\"))\n",
        "knearest_rmse_misc.sort_values()"
      ],
      "metadata": {
        "colab": {
          "base_uri": "https://localhost:8080/"
        },
        "id": "wgp8xvaZUVsw",
        "outputId": "077a4bc5-0a07-4fb1-880f-25428a4e23e4"
      },
      "execution_count": null,
      "outputs": [
        {
          "output_type": "stream",
          "name": "stderr",
          "text": [
            "<ipython-input-15-4b400373af70>:2: FutureWarning: The default dtype for empty Series will be 'object' instead of 'float64' in a future version. Specify a dtype explicitly to silence this warning.\n",
            "  rmse_series = pd.Series()\n"
          ]
        },
        {
          "output_type": "execute_result",
          "data": {
            "text/plain": [
              "['bedrooms', 'livingArea']                 6.097057e+05\n",
              "['bathrooms', 'livingArea']                6.555111e+05\n",
              "['bedrooms', 'bathrooms', 'livingArea']    6.877355e+05\n",
              "['livingArea']                             6.994049e+05\n",
              "[]                                         1.019042e+06\n",
              "['bathrooms']                              1.081944e+06\n",
              "['bedrooms', 'bathrooms']                  1.087147e+06\n",
              "['bedrooms']                               1.099451e+06\n",
              "dtype: float64"
            ]
          },
          "metadata": {},
          "execution_count": 16
        }
      ]
    },
    {
      "cell_type": "code",
      "source": [
        "# Keep track of model\n",
        "models = {\n",
        "    \"Model Name\" : [],\n",
        "    \"Validation RSME\" : [],\n",
        "    \"Test RSME\" : [],\n",
        "    \"Features\" : [],\n",
        "    \"Model\" : []\n",
        "}\n",
        "\n",
        "ct = make_column_transformer(\n",
        "    (OneHotEncoder(handle_unknown=\"ignore\"), cat_vars),\n",
        "    (StandardScaler(), quant_vars),\n",
        "    remainder=\"passthrough\"\n",
        ")\n",
        "\n",
        "best_knearest = make_pipeline(\n",
        "    ct,\n",
        "    KNeighborsRegressor(n_neighbors=7, metric=\"euclidean\")\n",
        ")\n",
        "\n",
        "models[\"Model Name\"].append(\"KNearestNeighbors\")\n",
        "models[\"Validation RSME\"].append(knearest_rmse_misc.min())\n",
        "models[\"Features\"].append(features)\n",
        "models[\"Model\"].append(best_knearest)"
      ],
      "metadata": {
        "id": "VpsMofT9t3H5"
      },
      "execution_count": null,
      "outputs": []
    },
    {
      "cell_type": "markdown",
      "source": [
        "# **LINEAR REGRESSION**"
      ],
      "metadata": {
        "id": "kOXTC3DvUolF"
      }
    },
    {
      "cell_type": "code",
      "source": [
        "linear_rmse_misc = try_diff_features(LinearRegression())\n",
        "linear_rmse_misc.sort_values()"
      ],
      "metadata": {
        "colab": {
          "base_uri": "https://localhost:8080/"
        },
        "id": "wT24ABDvUleL",
        "outputId": "70c55ae1-2615-42b3-c9b1-25acbe63434c"
      },
      "execution_count": null,
      "outputs": [
        {
          "output_type": "stream",
          "name": "stderr",
          "text": [
            "<ipython-input-15-4b400373af70>:2: FutureWarning: The default dtype for empty Series will be 'object' instead of 'float64' in a future version. Specify a dtype explicitly to silence this warning.\n",
            "  rmse_series = pd.Series()\n"
          ]
        },
        {
          "output_type": "execute_result",
          "data": {
            "text/plain": [
              "['bedrooms', 'bathrooms', 'livingArea']    6.581671e+05\n",
              "['bedrooms', 'livingArea']                 6.645577e+05\n",
              "['livingArea']                             6.807191e+05\n",
              "['bathrooms', 'livingArea']                6.808174e+05\n",
              "['bedrooms', 'bathrooms']                  8.440953e+05\n",
              "['bathrooms']                              8.447665e+05\n",
              "['bedrooms']                               9.302338e+05\n",
              "[]                                         1.005718e+06\n",
              "dtype: float64"
            ]
          },
          "metadata": {},
          "execution_count": 18
        }
      ]
    },
    {
      "cell_type": "code",
      "source": [
        "best_linear = make_pipeline(\n",
        "      ct,\n",
        "      LinearRegression()\n",
        ")\n",
        "\n",
        "models[\"Model Name\"].append(\"LinearRegression\")\n",
        "models[\"Validation RSME\"].append(linear_rmse_misc.min())\n",
        "models[\"Features\"].append(features)\n",
        "models[\"Model\"].append(best_linear)"
      ],
      "metadata": {
        "id": "AFyJPOQCt_Ys"
      },
      "execution_count": null,
      "outputs": []
    },
    {
      "cell_type": "markdown",
      "source": [
        "# **Random Forrest Regression**"
      ],
      "metadata": {
        "id": "aItNXDPZggr3"
      }
    },
    {
      "cell_type": "code",
      "source": [
        "random_forest_rmse_misc = try_diff_features(RandomForestRegressor())\n",
        "random_forest_rmse_misc.sort_values()"
      ],
      "metadata": {
        "colab": {
          "base_uri": "https://localhost:8080/"
        },
        "id": "gCxWV7oQgO9A",
        "outputId": "ac65f0d0-19ff-4bb6-b37c-5c38a9d9b7a2"
      },
      "execution_count": null,
      "outputs": [
        {
          "output_type": "stream",
          "name": "stderr",
          "text": [
            "<ipython-input-15-4b400373af70>:2: FutureWarning: The default dtype for empty Series will be 'object' instead of 'float64' in a future version. Specify a dtype explicitly to silence this warning.\n",
            "  rmse_series = pd.Series()\n"
          ]
        },
        {
          "output_type": "execute_result",
          "data": {
            "text/plain": [
              "['bedrooms', 'livingArea']                 5.588518e+05\n",
              "['bedrooms', 'bathrooms', 'livingArea']    5.819141e+05\n",
              "['livingArea']                             5.869841e+05\n",
              "['bathrooms', 'livingArea']                5.916083e+05\n",
              "['bedrooms', 'bathrooms']                  8.080787e+05\n",
              "['bathrooms']                              8.414364e+05\n",
              "['bedrooms']                               9.157484e+05\n",
              "[]                                         1.005952e+06\n",
              "dtype: float64"
            ]
          },
          "metadata": {},
          "execution_count": 20
        }
      ]
    },
    {
      "cell_type": "code",
      "source": [
        "best_rf = make_pipeline(\n",
        "    ct,\n",
        "    (RandomForestRegressor())\n",
        ")\n",
        "\n",
        "models[\"Model Name\"].append(\"Random Forest\")\n",
        "models[\"Validation RSME\"].append(random_forest_rmse_misc.min())\n",
        "models[\"Features\"].append(features)\n",
        "models[\"Model\"].append(best_rf)"
      ],
      "metadata": {
        "id": "mqWPMjk7uRhu"
      },
      "execution_count": null,
      "outputs": []
    },
    {
      "cell_type": "code",
      "source": [
        "#read in test data\n",
        "df_listings_test = pd.read_csv(\"/content/df_listings_for_sale_All.csv\")"
      ],
      "metadata": {
        "id": "7qQkBDhVvRGQ"
      },
      "execution_count": null,
      "outputs": []
    },
    {
      "cell_type": "code",
      "source": [
        "df_listings_test.columns"
      ],
      "metadata": {
        "colab": {
          "base_uri": "https://localhost:8080/"
        },
        "id": "YBCNtAOTwipL",
        "outputId": "4348f321-5188-4cea-aada-dccd34d6eb3b"
      },
      "execution_count": null,
      "outputs": [
        {
          "output_type": "execute_result",
          "data": {
            "text/plain": [
              "Index(['dateSold', 'propertyType', 'lotAreaValue', 'address', 'variableData',\n",
              "       'priceChange', 'zestimate', 'imgSrc', 'price', 'bedrooms',\n",
              "       'contingentListingType', 'longitude', 'latitude', 'listingStatus',\n",
              "       'zpid', 'rentZestimate', 'daysOnZillow', 'bathrooms', 'livingArea',\n",
              "       'country', 'currency', 'lotAreaUnit', 'hasImage',\n",
              "       'listingSubType.is_FSBA', 'variableData.text', 'variableData.type',\n",
              "       'listingSubType.is_openHouse', 'newConstructionType',\n",
              "       'listingSubType.is_newHome', 'listingSubType.is_bankOwned', 'unit',\n",
              "       'listingSubType.is_forAuction', 'listingSubType.is_foreclosure'],\n",
              "      dtype='object')"
            ]
          },
          "metadata": {},
          "execution_count": 23
        }
      ]
    },
    {
      "cell_type": "code",
      "source": [
        "df_listings_test.drop(['dateSold', 'lotAreaValue', 'variableData', 'priceChange', 'zestimate', 'imgSrc', 'contingentListingType', 'listingStatus', 'zpid', 'rentZestimate', 'daysOnZillow', 'country', 'currency', 'hasImage', 'listingSubType.is_FSBA', 'variableData.text', 'variableData.type',\n",
        "       'listingSubType.is_openHouse', 'newConstructionType','listingSubType.is_newHome', 'listingSubType.is_bankOwned', 'unit',\n",
        "       'listingSubType.is_forAuction', 'listingSubType.is_foreclosure', 'lotAreaUnit', 'longitude', 'latitude', 'address'], axis=1, inplace=True)"
      ],
      "metadata": {
        "id": "xJ3im7cTw8bc"
      },
      "execution_count": null,
      "outputs": []
    },
    {
      "cell_type": "code",
      "source": [
        "df_listings_test.columns"
      ],
      "metadata": {
        "colab": {
          "base_uri": "https://localhost:8080/"
        },
        "id": "gbuvdeZRxmX0",
        "outputId": "437feee4-c4ee-4087-a31a-40e408ebcd5d"
      },
      "execution_count": null,
      "outputs": [
        {
          "output_type": "execute_result",
          "data": {
            "text/plain": [
              "Index(['propertyType', 'price', 'bedrooms', 'bathrooms', 'livingArea'], dtype='object')"
            ]
          },
          "metadata": {},
          "execution_count": 25
        }
      ]
    },
    {
      "cell_type": "code",
      "source": [
        "df_listings_test.dropna(subset=['bedrooms'], inplace=True)\n",
        "df_listings_test.dropna(subset=['bathrooms'], inplace=True)\n",
        "df_listings_test.dropna(subset=['livingArea'], inplace=True)"
      ],
      "metadata": {
        "id": "HTXLt6D8yYIm"
      },
      "execution_count": null,
      "outputs": []
    },
    {
      "cell_type": "code",
      "source": [
        "#predicting the price\n",
        "y_test_total = df_listings_test[\"price\"]\n",
        "\n",
        "for i in range(0, len(models[\"Model Name\"])):\n",
        "  m_features = models[\"Features\"][i]\n",
        "  X_train = df_sold_listings_all_ML[m_features]\n",
        "  X_test = df_listings_test[m_features]\n",
        "  model = models[\"Model\"][i]\n",
        "  model.fit(X=X_train, y=y_train)\n",
        "  y_test_ = model.predict(X_test)\n",
        "  models[\"Test RSME\"].append(np.sqrt(mean_squared_error(y_test_total, y_test_)))"
      ],
      "metadata": {
        "id": "nkVvHCozvL7N"
      },
      "execution_count": null,
      "outputs": []
    },
    {
      "cell_type": "code",
      "source": [
        "used_models = models[\"Model\"]\n",
        "del models[\"Model\"], models[\"Features\"]\n",
        "pd.DataFrame(models)"
      ],
      "metadata": {
        "colab": {
          "base_uri": "https://localhost:8080/"
        },
        "id": "ATC2E0iT7lEu",
        "outputId": "ac5a33e1-38c4-410b-86bc-698a8a499294"
      },
      "execution_count": null,
      "outputs": [
        {
          "output_type": "execute_result",
          "data": {
            "text/plain": [
              "          Model Name  Validation RSME     Test RSME\n",
              "0  KNearestNeighbors    609705.727950  3.287983e+06\n",
              "1   LinearRegression    658167.144484  2.975862e+06\n",
              "2      Random Forest    558851.778153  2.999634e+06"
            ],
            "text/html": [
              "\n",
              "  <div id=\"df-c65ec617-e096-4a03-b07b-da427e1bfeef\">\n",
              "    <div class=\"colab-df-container\">\n",
              "      <div>\n",
              "<style scoped>\n",
              "    .dataframe tbody tr th:only-of-type {\n",
              "        vertical-align: middle;\n",
              "    }\n",
              "\n",
              "    .dataframe tbody tr th {\n",
              "        vertical-align: top;\n",
              "    }\n",
              "\n",
              "    .dataframe thead th {\n",
              "        text-align: right;\n",
              "    }\n",
              "</style>\n",
              "<table border=\"1\" class=\"dataframe\">\n",
              "  <thead>\n",
              "    <tr style=\"text-align: right;\">\n",
              "      <th></th>\n",
              "      <th>Model Name</th>\n",
              "      <th>Validation RSME</th>\n",
              "      <th>Test RSME</th>\n",
              "    </tr>\n",
              "  </thead>\n",
              "  <tbody>\n",
              "    <tr>\n",
              "      <th>0</th>\n",
              "      <td>KNearestNeighbors</td>\n",
              "      <td>609705.727950</td>\n",
              "      <td>3.287983e+06</td>\n",
              "    </tr>\n",
              "    <tr>\n",
              "      <th>1</th>\n",
              "      <td>LinearRegression</td>\n",
              "      <td>658167.144484</td>\n",
              "      <td>2.975862e+06</td>\n",
              "    </tr>\n",
              "    <tr>\n",
              "      <th>2</th>\n",
              "      <td>Random Forest</td>\n",
              "      <td>558851.778153</td>\n",
              "      <td>2.999634e+06</td>\n",
              "    </tr>\n",
              "  </tbody>\n",
              "</table>\n",
              "</div>\n",
              "      <button class=\"colab-df-convert\" onclick=\"convertToInteractive('df-c65ec617-e096-4a03-b07b-da427e1bfeef')\"\n",
              "              title=\"Convert this dataframe to an interactive table.\"\n",
              "              style=\"display:none;\">\n",
              "        \n",
              "  <svg xmlns=\"http://www.w3.org/2000/svg\" height=\"24px\"viewBox=\"0 0 24 24\"\n",
              "       width=\"24px\">\n",
              "    <path d=\"M0 0h24v24H0V0z\" fill=\"none\"/>\n",
              "    <path d=\"M18.56 5.44l.94 2.06.94-2.06 2.06-.94-2.06-.94-.94-2.06-.94 2.06-2.06.94zm-11 1L8.5 8.5l.94-2.06 2.06-.94-2.06-.94L8.5 2.5l-.94 2.06-2.06.94zm10 10l.94 2.06.94-2.06 2.06-.94-2.06-.94-.94-2.06-.94 2.06-2.06.94z\"/><path d=\"M17.41 7.96l-1.37-1.37c-.4-.4-.92-.59-1.43-.59-.52 0-1.04.2-1.43.59L10.3 9.45l-7.72 7.72c-.78.78-.78 2.05 0 2.83L4 21.41c.39.39.9.59 1.41.59.51 0 1.02-.2 1.41-.59l7.78-7.78 2.81-2.81c.8-.78.8-2.07 0-2.86zM5.41 20L4 18.59l7.72-7.72 1.47 1.35L5.41 20z\"/>\n",
              "  </svg>\n",
              "      </button>\n",
              "      \n",
              "  <style>\n",
              "    .colab-df-container {\n",
              "      display:flex;\n",
              "      flex-wrap:wrap;\n",
              "      gap: 12px;\n",
              "    }\n",
              "\n",
              "    .colab-df-convert {\n",
              "      background-color: #E8F0FE;\n",
              "      border: none;\n",
              "      border-radius: 50%;\n",
              "      cursor: pointer;\n",
              "      display: none;\n",
              "      fill: #1967D2;\n",
              "      height: 32px;\n",
              "      padding: 0 0 0 0;\n",
              "      width: 32px;\n",
              "    }\n",
              "\n",
              "    .colab-df-convert:hover {\n",
              "      background-color: #E2EBFA;\n",
              "      box-shadow: 0px 1px 2px rgba(60, 64, 67, 0.3), 0px 1px 3px 1px rgba(60, 64, 67, 0.15);\n",
              "      fill: #174EA6;\n",
              "    }\n",
              "\n",
              "    [theme=dark] .colab-df-convert {\n",
              "      background-color: #3B4455;\n",
              "      fill: #D2E3FC;\n",
              "    }\n",
              "\n",
              "    [theme=dark] .colab-df-convert:hover {\n",
              "      background-color: #434B5C;\n",
              "      box-shadow: 0px 1px 3px 1px rgba(0, 0, 0, 0.15);\n",
              "      filter: drop-shadow(0px 1px 2px rgba(0, 0, 0, 0.3));\n",
              "      fill: #FFFFFF;\n",
              "    }\n",
              "  </style>\n",
              "\n",
              "      <script>\n",
              "        const buttonEl =\n",
              "          document.querySelector('#df-c65ec617-e096-4a03-b07b-da427e1bfeef button.colab-df-convert');\n",
              "        buttonEl.style.display =\n",
              "          google.colab.kernel.accessAllowed ? 'block' : 'none';\n",
              "\n",
              "        async function convertToInteractive(key) {\n",
              "          const element = document.querySelector('#df-c65ec617-e096-4a03-b07b-da427e1bfeef');\n",
              "          const dataTable =\n",
              "            await google.colab.kernel.invokeFunction('convertToInteractive',\n",
              "                                                     [key], {});\n",
              "          if (!dataTable) return;\n",
              "\n",
              "          const docLinkHtml = 'Like what you see? Visit the ' +\n",
              "            '<a target=\"_blank\" href=https://colab.research.google.com/notebooks/data_table.ipynb>data table notebook</a>'\n",
              "            + ' to learn more about interactive tables.';\n",
              "          element.innerHTML = '';\n",
              "          dataTable['output_type'] = 'display_data';\n",
              "          await google.colab.output.renderOutput(dataTable, element);\n",
              "          const docLink = document.createElement('div');\n",
              "          docLink.innerHTML = docLinkHtml;\n",
              "          element.appendChild(docLink);\n",
              "        }\n",
              "      </script>\n",
              "    </div>\n",
              "  </div>\n",
              "  "
            ]
          },
          "metadata": {},
          "execution_count": 28
        }
      ]
    },
    {
      "cell_type": "markdown",
      "source": [
        "LinearRegression has the bset Test RSME, while random_forest has the best validation RSME. Over these RSME's seem really high, further model tuning is warranted."
      ],
      "metadata": {
        "id": "TcTAUuo3fchi"
      }
    }
  ],
  "metadata": {
    "colab": {
      "provenance": []
    },
    "kernelspec": {
      "display_name": "Python 3",
      "name": "python3"
    },
    "language_info": {
      "name": "python"
    }
  },
  "nbformat": 4,
  "nbformat_minor": 0
}