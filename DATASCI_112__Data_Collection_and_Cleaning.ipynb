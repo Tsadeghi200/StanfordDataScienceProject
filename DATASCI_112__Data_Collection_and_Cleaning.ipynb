{
  "nbformat": 4,
  "nbformat_minor": 0,
  "metadata": {
    "colab": {
      "provenance": []
    },
    "kernelspec": {
      "name": "python3",
      "display_name": "Python 3"
    },
    "language_info": {
      "name": "python"
    }
  },
  "cells": [
    {
      "cell_type": "code",
      "source": [
        "import requests\n",
        "import pandas as pd\n",
        "import time\n",
        "import datetime\n",
        "import os"
      ],
      "metadata": {
        "id": "YZtcP_e8A1OB"
      },
      "execution_count": null,
      "outputs": []
    },
    {
      "cell_type": "markdown",
      "source": [
        "# **DATA COLLECTION AND CLEANING**"
      ],
      "metadata": {
        "id": "3CmPfUru98oN"
      }
    },
    {
      "cell_type": "code",
      "source": [
        "from google.colab import drive\n",
        "\n",
        "# Mount Google Drive to Colab\n",
        "drive.mount('/content/drive')\n",
        "\n",
        "# Set the path to the directory where to save the CSV file\n",
        "data_dir = \"https://drive.google.com/drive/folders/1KlYSAQHsIcjDvKS4MZ-hy352_J3LFCYW?usp=share_link\"\n",
        "\n",
        "# Change the working directory to Google Drive directory\n",
        "os.chdir('/content/drive/MyDrive')\n",
        "\n",
        "# Verify that I am in the correct directory\n",
        "print(os.getcwd())"
      ],
      "metadata": {
        "colab": {
          "base_uri": "https://localhost:8080/"
        },
        "id": "4IFi2NV7gWXx",
        "outputId": "101a2bdd-eff9-4b90-a160-9a412c40df05"
      },
      "execution_count": null,
      "outputs": [
        {
          "output_type": "stream",
          "name": "stdout",
          "text": [
            "Drive already mounted at /content/drive; to attempt to forcibly remount, call drive.mount(\"/content/drive\", force_remount=True).\n",
            "/content/drive/MyDrive\n"
          ]
        }
      ]
    },
    {
      "cell_type": "markdown",
      "source": [
        "# DATA COLLECTION: Zillow API\n",
        "\n",
        "I will be getting data for recently sold properties, specifically for three different types of properties: Houses, TownHomes, and Condos. Zillow only allows to get data at most for 20 pages of information, with each page including 40 properties (max of 800 for each property type). To maximize the amount of data, I run three separate API calls for each type of property to get the max of 2400. I will then combine all three different property types to get a final list of recently sold properties."
      ],
      "metadata": {
        "id": "IOu4ieLkLBGR"
      }
    },
    {
      "cell_type": "code",
      "source": [
        "#Get a list of all the houses that were sold recently\n",
        "url = \"https://zillow-com1.p.rapidapi.com/propertyExtendedSearch\"\n",
        "\n",
        "querystring = {\"location\":\"san francisco, ca\",\"status_type\":\"RecentlySold\",\"home_type\":\"Houses\"}\n",
        "\n",
        "headers = {\n",
        "\t\"X-RapidAPI-Key\": \"c071463b35msh4722d8d40e4b0d3p1613bajsn7d170ee782bf\",\n",
        "\t\"X-RapidAPI-Host\": \"zillow-com1.p.rapidapi.com\"\n",
        "}\n",
        "\n",
        "all_results = []\n",
        "\n",
        "for i in range(1, 21):\n",
        "    querystring[\"page\"] = i\n",
        "    response = requests.request(\"GET\", url, headers=headers, params=querystring)\n",
        "    all_results.extend(response.json()[\"props\"])\n",
        "    i += 1\n",
        "\n",
        "    time.sleep(0.5)\n"
      ],
      "metadata": {
        "id": "MGxIAanp8jUD"
      },
      "execution_count": null,
      "outputs": []
    },
    {
      "cell_type": "code",
      "source": [
        "#Turn the results into a dataframe\n",
        "df_recently_sold_Houses = pd.json_normalize(all_results)\n",
        "\n",
        "#Zillow only shows 20 pages of recent data so we have 400 rows (20 pages*20 properties per page)\n",
        "df_recently_sold_Houses.shape"
      ],
      "metadata": {
        "colab": {
          "base_uri": "https://localhost:8080/"
        },
        "id": "E6FaNwtjFn5h",
        "outputId": "e98c2b2b-f729-4138-f95a-db3971880db2"
      },
      "execution_count": null,
      "outputs": [
        {
          "output_type": "execute_result",
          "data": {
            "text/plain": [
              "(800, 26)"
            ]
          },
          "metadata": {},
          "execution_count": 4
        }
      ]
    },
    {
      "cell_type": "code",
      "source": [
        "#Get a list of Townhomes that were sold recently\n",
        "url = \"https://zillow-com1.p.rapidapi.com/propertyExtendedSearch\"\n",
        "\n",
        "querystring = {\"location\":\"san francisco, ca\",\"status_type\":\"RecentlySold\",\"home_type\":\"Townhomes\"}\n",
        "\n",
        "headers = {\n",
        "\t\"X-RapidAPI-Key\": \"c071463b35msh4722d8d40e4b0d3p1613bajsn7d170ee782bf\",\n",
        "\t\"X-RapidAPI-Host\": \"zillow-com1.p.rapidapi.com\"\n",
        "}\n",
        "\n",
        "all_results = []\n",
        "\n",
        "for i in range(1, 21):\n",
        "    querystring[\"page\"] = i\n",
        "    response = requests.request(\"GET\", url, headers=headers, params=querystring)\n",
        "    all_results.extend(response.json()[\"props\"])\n",
        "    i += 1\n",
        "\n",
        "    time.sleep(0.5)"
      ],
      "metadata": {
        "id": "Xzn0v8_2vqUS"
      },
      "execution_count": null,
      "outputs": []
    },
    {
      "cell_type": "code",
      "source": [
        "#Turn the results into a dataframe\n",
        "df_recently_sold_Townhomes = pd.json_normalize(all_results)"
      ],
      "metadata": {
        "id": "tKVhrTM0vvoe"
      },
      "execution_count": null,
      "outputs": []
    },
    {
      "cell_type": "code",
      "source": [
        "#Get a list of condos/apartments that were sold recently\n",
        "url = \"https://zillow-com1.p.rapidapi.com/propertyExtendedSearch\"\n",
        "\n",
        "querystring = {\"location\":\"san francisco, ca\",\"status_type\":\"RecentlySold\",\"home_type\":\"Apartments_Condos_Co-ops\"}\n",
        "\n",
        "headers = {\n",
        "\t\"X-RapidAPI-Key\": \"c071463b35msh4722d8d40e4b0d3p1613bajsn7d170ee782bf\",\n",
        "\t\"X-RapidAPI-Host\": \"zillow-com1.p.rapidapi.com\"\n",
        "}\n",
        "\n",
        "all_results = []\n",
        "\n",
        "for i in range(1, 21):\n",
        "    querystring[\"page\"] = i\n",
        "    response = requests.request(\"GET\", url, headers=headers, params=querystring)\n",
        "    all_results.extend(response.json()[\"props\"])\n",
        "    i += 1\n",
        "\n",
        "    time.sleep(0.5)\n"
      ],
      "metadata": {
        "id": "yZsPyewnxrgz"
      },
      "execution_count": null,
      "outputs": []
    },
    {
      "cell_type": "code",
      "source": [
        "#Turn the results into a dataframe\n",
        "df_recently_sold_Apartments_Condos = pd.json_normalize(all_results)"
      ],
      "metadata": {
        "id": "00BGyphwyOI4"
      },
      "execution_count": null,
      "outputs": []
    },
    {
      "cell_type": "code",
      "source": [
        "#Combine the data for Houses+Townhomes+Condos\n",
        "df_listings_Houses_Townhomes = pd.concat([df_recently_sold_Houses,df_recently_sold_Townhomes ], axis=0, ignore_index=True)\n",
        "df_listings_Houses_Townhomes.shape"
      ],
      "metadata": {
        "colab": {
          "base_uri": "https://localhost:8080/"
        },
        "id": "yC1xRDAiyn4U",
        "outputId": "c7650e90-8d27-46c2-cfce-97a23329684e"
      },
      "execution_count": null,
      "outputs": [
        {
          "output_type": "execute_result",
          "data": {
            "text/plain": [
              "(1586, 26)"
            ]
          },
          "metadata": {},
          "execution_count": 9
        }
      ]
    },
    {
      "cell_type": "code",
      "source": [
        "#Combine the data from Houses and Townhomes to Condos to get a list of all property types\n",
        "df_listings_All = pd.concat([df_listings_Houses_Townhomes,df_recently_sold_Apartments_Condos], axis=0, ignore_index=True)\n",
        "df_listings_All.shape"
      ],
      "metadata": {
        "colab": {
          "base_uri": "https://localhost:8080/"
        },
        "id": "-1TtY7GdzOo1",
        "outputId": "5838e7ba-f232-4586-8577-a35637509b15"
      },
      "execution_count": null,
      "outputs": [
        {
          "output_type": "execute_result",
          "data": {
            "text/plain": [
              "(2386, 27)"
            ]
          },
          "metadata": {},
          "execution_count": 10
        }
      ]
    },
    {
      "cell_type": "code",
      "source": [
        "df_listings_All.columns"
      ],
      "metadata": {
        "colab": {
          "base_uri": "https://localhost:8080/"
        },
        "id": "weUyg44Uz-XD",
        "outputId": "5e2568b8-b8be-4bdc-8ded-d0b0df2dfd93"
      },
      "execution_count": null,
      "outputs": [
        {
          "output_type": "execute_result",
          "data": {
            "text/plain": [
              "Index(['dateSold', 'propertyType', 'lotAreaValue', 'address', 'zestimate',\n",
              "       'imgSrc', 'price', 'bedrooms', 'contingentListingType', 'longitude',\n",
              "       'latitude', 'listingStatus', 'zpid', 'rentZestimate', 'daysOnZillow',\n",
              "       'bathrooms', 'livingArea', 'country', 'currency', 'lotAreaUnit',\n",
              "       'hasImage', 'variableData.text', 'variableData.type',\n",
              "       'listingSubType.is_FSBA', 'unit', 'listingSubType.is_openHouse',\n",
              "       'listingSubType.is_bankOwned'],\n",
              "      dtype='object')"
            ]
          },
          "metadata": {},
          "execution_count": 12
        }
      ]
    },
    {
      "cell_type": "markdown",
      "source": [
        "# DATA CLEANING\n",
        "\n",
        "*   Deleteing columns that contain data that is not relevant\n",
        "*   Deleting rows that contain data that is not relevant (i.e. rows where the property is Under_Contract and the sale has not yet been fully finalized)\n",
        "*   Cleaning up the formatting for some of the rows (such as the date)\n"
      ],
      "metadata": {
        "id": "jyRklxEOJhlR"
      }
    },
    {
      "cell_type": "code",
      "source": [
        "#Find which rows and columns needs to be removed\n",
        "df_listings_All['contingentListingType'].value_counts()\n",
        "#contingentListingType - 2 are under_contract, remove these rows\n",
        "\n",
        "df_listings_All[\"listingStatus\"].value_counts()\n",
        "#listingStatus - 4 are pending, remove these rows\n",
        "\n",
        "df_listings_All[\"variableData.type\"].value_counts()\n",
        "#variableData.type - OPEN_HOUSE and ACCEPTS_APPLICATIONS, remove these rows\n",
        "\n",
        "df_listings_All[\"variableData.type\"].value_counts()\n",
        "#variableData.type - OPEN_HOUSE and ACCEPTS_APPLICATIONS, remove these rows\n",
        "\n",
        "df_listings_All[\"currency\"].unique()\n",
        "#all currency is dollar, so can remove this column\n",
        "\n",
        "df_listings_All['listingSubType.is_openHouse'].value_counts()\n",
        "#it's all NaN so can drop this column, same for listingSubType.is_bankOwned, listingSubType.is_FSBA"
      ],
      "metadata": {
        "colab": {
          "base_uri": "https://localhost:8080/"
        },
        "id": "OkFcn3nMHQFM",
        "outputId": "32c68c32-c370-4730-f77b-d561079efd97"
      },
      "execution_count": null,
      "outputs": [
        {
          "output_type": "execute_result",
          "data": {
            "text/plain": [
              "True    3\n",
              "Name: listingSubType.is_openHouse, dtype: int64"
            ]
          },
          "metadata": {},
          "execution_count": 13
        }
      ]
    },
    {
      "cell_type": "code",
      "source": [
        "#Function to remove the rows\n",
        "def remove_rows(df):\n",
        "    # Remove rows where 'contingentListingType' is 'UNDER_CONTRACT'\n",
        "    df = df[df['contingentListingType'] != 'UNDER_CONTRACT']\n",
        "\n",
        "    # Remove rows where 'listingStatus' is 'PENDING'\n",
        "    df = df[df['listingStatus'] != 'PENDING']\n",
        "\n",
        "    # Remove rows where 'variableData.type' is 'OPEN_HOUSE' or 'ACCEPTS APPLICATIONS\n",
        "    df = df[(df['variableData.type'] != 'OPEN_HOUSE') & (df['variableData.type'] != 'ACCEPTS_APPLICATIONS')]\n",
        "\n",
        "    # Reset the index of the resulting DataFrame\n",
        "    df.reset_index(drop=True, inplace=True)\n",
        "\n",
        "    return df\n",
        "\n",
        "df_listings_All = remove_rows(df_listings_All)"
      ],
      "metadata": {
        "id": "tFMmX_c-PbJ4"
      },
      "execution_count": null,
      "outputs": []
    },
    {
      "cell_type": "code",
      "source": [
        "#remove these columns: contingentListingType, ListingStatus, currency, variableData.type, variableData.text, listingSubType.is_FSBA, listingSubType.is_openHouse, listingSubType.is_bankOwned\n",
        "df_listings_All.drop(['contingentListingType', 'listingStatus', 'currency', 'variableData.type', 'variableData.text', 'listingSubType.is_FSBA', 'listingSubType.is_openHouse', 'listingSubType.is_bankOwned'], axis=1, inplace=True)"
      ],
      "metadata": {
        "id": "ek1haaI7OT6h"
      },
      "execution_count": null,
      "outputs": []
    },
    {
      "cell_type": "code",
      "source": [
        "import datetime\n",
        "\n",
        "def unix_timestamp_to_datetime(timestamp):\n",
        "    if pd.isnull(timestamp):\n",
        "        return None\n",
        "    else:\n",
        "        timestamp_sec = int(timestamp) / 1000\n",
        "        dt = datetime.datetime.fromtimestamp(timestamp_sec)\n",
        "        return dt\n",
        "\n",
        "df_listings_All['dateSold'] = df_listings_All['dateSold'].apply(unix_timestamp_to_datetime)"
      ],
      "metadata": {
        "id": "-6HEvV75Ayyt"
      },
      "execution_count": null,
      "outputs": []
    },
    {
      "cell_type": "code",
      "source": [
        "# Convert the 'dateSold' column to month/year format\n",
        "df_listings_All['dateSold'] = pd.to_datetime(df_listings_All['dateSold'])\n",
        "\n",
        "# Create a new column with the desired format\n",
        "df_listings_All['month_year'] = df_listings_All['dateSold'].apply(lambda x: '{}/{}'.format(x.month, x.year))"
      ],
      "metadata": {
        "id": "WtjOHl6V29GW"
      },
      "execution_count": null,
      "outputs": []
    },
    {
      "cell_type": "code",
      "source": [
        "# Save the DataFrame to a CSV file\n",
        "df_listings_All.to_csv(data_dir + \"listings_data.csv\", index=False)"
      ],
      "metadata": {
        "id": "1NTVN1xPee5A"
      },
      "execution_count": null,
      "outputs": []
    },
    {
      "cell_type": "code",
      "source": [
        "#Convert to csv and download\n",
        "df_listings_All.to_csv('listings_All.csv', index=False)\n",
        "from google.colab import files\n",
        "files.download('listings_All.csv')"
      ],
      "metadata": {
        "colab": {
          "base_uri": "https://localhost:8080/",
          "height": 17
        },
        "id": "WLM8zyGjBodE",
        "outputId": "ad08763e-59b0-4080-c7cb-50f5a0c66371"
      },
      "execution_count": null,
      "outputs": [
        {
          "output_type": "display_data",
          "data": {
            "text/plain": [
              "<IPython.core.display.Javascript object>"
            ],
            "application/javascript": [
              "\n",
              "    async function download(id, filename, size) {\n",
              "      if (!google.colab.kernel.accessAllowed) {\n",
              "        return;\n",
              "      }\n",
              "      const div = document.createElement('div');\n",
              "      const label = document.createElement('label');\n",
              "      label.textContent = `Downloading \"${filename}\": `;\n",
              "      div.appendChild(label);\n",
              "      const progress = document.createElement('progress');\n",
              "      progress.max = size;\n",
              "      div.appendChild(progress);\n",
              "      document.body.appendChild(div);\n",
              "\n",
              "      const buffers = [];\n",
              "      let downloaded = 0;\n",
              "\n",
              "      const channel = await google.colab.kernel.comms.open(id);\n",
              "      // Send a message to notify the kernel that we're ready.\n",
              "      channel.send({})\n",
              "\n",
              "      for await (const message of channel.messages) {\n",
              "        // Send a message to notify the kernel that we're ready.\n",
              "        channel.send({})\n",
              "        if (message.buffers) {\n",
              "          for (const buffer of message.buffers) {\n",
              "            buffers.push(buffer);\n",
              "            downloaded += buffer.byteLength;\n",
              "            progress.value = downloaded;\n",
              "          }\n",
              "        }\n",
              "      }\n",
              "      const blob = new Blob(buffers, {type: 'application/binary'});\n",
              "      const a = document.createElement('a');\n",
              "      a.href = window.URL.createObjectURL(blob);\n",
              "      a.download = filename;\n",
              "      div.appendChild(a);\n",
              "      a.click();\n",
              "      div.remove();\n",
              "    }\n",
              "  "
            ]
          },
          "metadata": {}
        },
        {
          "output_type": "display_data",
          "data": {
            "text/plain": [
              "<IPython.core.display.Javascript object>"
            ],
            "application/javascript": [
              "download(\"download_3a471192-4fcf-4a23-9364-4e7887c0297e\", \"listings_All.csv\", 645474)"
            ]
          },
          "metadata": {}
        }
      ]
    },
    {
      "cell_type": "markdown",
      "source": [
        "# **TEST DATA**"
      ],
      "metadata": {
        "id": "bJFI7Gqiqz7X"
      }
    },
    {
      "cell_type": "code",
      "source": [
        "#Get a list of all the houses that are avaialable for sell\n",
        "url = \"https://zillow-com1.p.rapidapi.com/propertyExtendedSearch\"\n",
        "\n",
        "querystring = {\"location\":\"san francisco, ca\",\"status_type\":\"ForSale\",\"home_type\":\"Houses\"}\n",
        "\n",
        "headers = {\n",
        "\t\"X-RapidAPI-Key\": \"c071463b35msh4722d8d40e4b0d3p1613bajsn7d170ee782bf\",\n",
        "\t\"X-RapidAPI-Host\": \"zillow-com1.p.rapidapi.com\"\n",
        "}\n",
        "\n",
        "all_results = []\n",
        "\n",
        "for i in range(1, 21):\n",
        "    querystring[\"page\"] = i\n",
        "    response = requests.request(\"GET\", url, headers=headers, params=querystring)\n",
        "    all_results.extend(response.json()[\"props\"])\n",
        "    i += 1\n",
        "\n",
        "    time.sleep(0.5)"
      ],
      "metadata": {
        "id": "cKK7KKICq7wi"
      },
      "execution_count": null,
      "outputs": []
    },
    {
      "cell_type": "code",
      "source": [
        "#Turn the results into a dataframe\n",
        "df_listing_Houses = pd.json_normalize(all_results)\n",
        "\n",
        "#Zillow only shows 20 pages of recent data so we have 400 rows (20 pages*20 properties per page)\n",
        "df_listing_Houses.shape"
      ],
      "metadata": {
        "colab": {
          "base_uri": "https://localhost:8080/"
        },
        "id": "I8Ib2UEaq_eG",
        "outputId": "25579c58-c542-49ec-a6ae-84e99d240fb2"
      },
      "execution_count": null,
      "outputs": [
        {
          "output_type": "execute_result",
          "data": {
            "text/plain": [
              "(784, 33)"
            ]
          },
          "metadata": {},
          "execution_count": 3
        }
      ]
    },
    {
      "cell_type": "code",
      "source": [
        "#Get a list of Townhomes that were sold recently\n",
        "url = \"https://zillow-com1.p.rapidapi.com/propertyExtendedSearch\"\n",
        "\n",
        "querystring = {\"location\":\"san francisco, ca\",\"status_type\":\"ForSale\",\"home_type\":\"Townhomes\"}\n",
        "\n",
        "headers = {\n",
        "\t\"X-RapidAPI-Key\": \"c071463b35msh4722d8d40e4b0d3p1613bajsn7d170ee782bf\",\n",
        "\t\"X-RapidAPI-Host\": \"zillow-com1.p.rapidapi.com\"\n",
        "}\n",
        "\n",
        "all_results = []\n",
        "\n",
        "for i in range(1, 21):\n",
        "    querystring[\"page\"] = i\n",
        "    response = requests.request(\"GET\", url, headers=headers, params=querystring)\n",
        "    all_results.extend(response.json()[\"props\"])\n",
        "    i += 1\n",
        "\n",
        "    time.sleep(0.5)"
      ],
      "metadata": {
        "id": "fFjCzTdbrAL_"
      },
      "execution_count": null,
      "outputs": []
    },
    {
      "cell_type": "code",
      "source": [
        "#Turn the results into a dataframe\n",
        "df_listing_Townhomes = pd.json_normalize(all_results)"
      ],
      "metadata": {
        "id": "xrlXqyVkrDtV"
      },
      "execution_count": null,
      "outputs": []
    },
    {
      "cell_type": "code",
      "source": [
        "#Get a list of condos/apartments that were sold recently\n",
        "url = \"https://zillow-com1.p.rapidapi.com/propertyExtendedSearch\"\n",
        "\n",
        "querystring = {\"location\":\"san francisco, ca\",\"status_type\":\"ForSale\",\"home_type\":\"Apartments_Condos_Co-ops\"}\n",
        "\n",
        "headers = {\n",
        "\t\"X-RapidAPI-Key\": \"c071463b35msh4722d8d40e4b0d3p1613bajsn7d170ee782bf\",\n",
        "\t\"X-RapidAPI-Host\": \"zillow-com1.p.rapidapi.com\"\n",
        "}\n",
        "\n",
        "all_results = []\n",
        "\n",
        "for i in range(1, 21):\n",
        "    querystring[\"page\"] = i\n",
        "    response = requests.request(\"GET\", url, headers=headers, params=querystring)\n",
        "    all_results.extend(response.json()[\"props\"])\n",
        "    i += 1\n",
        "\n",
        "    time.sleep(0.5)"
      ],
      "metadata": {
        "id": "7hM14WjmrHDi"
      },
      "execution_count": null,
      "outputs": []
    },
    {
      "cell_type": "code",
      "source": [
        "#Turn the results into a dataframe\n",
        "df_listing_Apartments_Condos = pd.json_normalize(all_results)"
      ],
      "metadata": {
        "id": "uQs9HjN_rKEg"
      },
      "execution_count": null,
      "outputs": []
    },
    {
      "cell_type": "code",
      "source": [
        "#Combine the data for Houses+Townhomes+Condos\n",
        "df_listings_for_sale_Houses_Townhomes = pd.concat([df_listing_Houses,df_listing_Townhomes], axis=0, ignore_index=True)\n",
        "df_listings_for_sale_Houses_Townhomes.shape"
      ],
      "metadata": {
        "colab": {
          "base_uri": "https://localhost:8080/"
        },
        "id": "AZ_XXDd8slbA",
        "outputId": "9b291128-d412-4f08-b4b0-be62f05a54fb"
      },
      "execution_count": null,
      "outputs": [
        {
          "output_type": "execute_result",
          "data": {
            "text/plain": [
              "(1004, 33)"
            ]
          },
          "metadata": {},
          "execution_count": 8
        }
      ]
    },
    {
      "cell_type": "code",
      "source": [
        "#Combine the data from Houses and Townhomes to Condos to get a list of all property types\n",
        "df_listings_for_sale_All = pd.concat([df_listings_for_sale_Houses_Townhomes,df_listing_Apartments_Condos], axis=0, ignore_index=True)\n",
        "df_listings_for_sale_All.shape"
      ],
      "metadata": {
        "colab": {
          "base_uri": "https://localhost:8080/"
        },
        "id": "NFIz1ds0sl7t",
        "outputId": "6e330cc4-493a-4e77-824d-a09a670df86a"
      },
      "execution_count": null,
      "outputs": [
        {
          "output_type": "execute_result",
          "data": {
            "text/plain": [
              "(1804, 33)"
            ]
          },
          "metadata": {},
          "execution_count": 9
        }
      ]
    },
    {
      "cell_type": "code",
      "source": [
        "df_listings_for_sale_All.to_csv('listings_for_sale_All.csv', index=False)\n",
        "from google.colab import files\n",
        "files.download('listings_for_sale_All.csv')"
      ],
      "metadata": {
        "colab": {
          "base_uri": "https://localhost:8080/",
          "height": 17
        },
        "id": "Lb1VnnoetQy8",
        "outputId": "efcdd3c8-4fe8-44ec-accf-e80c6364736a"
      },
      "execution_count": null,
      "outputs": [
        {
          "output_type": "display_data",
          "data": {
            "text/plain": [
              "<IPython.core.display.Javascript object>"
            ],
            "application/javascript": [
              "\n",
              "    async function download(id, filename, size) {\n",
              "      if (!google.colab.kernel.accessAllowed) {\n",
              "        return;\n",
              "      }\n",
              "      const div = document.createElement('div');\n",
              "      const label = document.createElement('label');\n",
              "      label.textContent = `Downloading \"${filename}\": `;\n",
              "      div.appendChild(label);\n",
              "      const progress = document.createElement('progress');\n",
              "      progress.max = size;\n",
              "      div.appendChild(progress);\n",
              "      document.body.appendChild(div);\n",
              "\n",
              "      const buffers = [];\n",
              "      let downloaded = 0;\n",
              "\n",
              "      const channel = await google.colab.kernel.comms.open(id);\n",
              "      // Send a message to notify the kernel that we're ready.\n",
              "      channel.send({})\n",
              "\n",
              "      for await (const message of channel.messages) {\n",
              "        // Send a message to notify the kernel that we're ready.\n",
              "        channel.send({})\n",
              "        if (message.buffers) {\n",
              "          for (const buffer of message.buffers) {\n",
              "            buffers.push(buffer);\n",
              "            downloaded += buffer.byteLength;\n",
              "            progress.value = downloaded;\n",
              "          }\n",
              "        }\n",
              "      }\n",
              "      const blob = new Blob(buffers, {type: 'application/binary'});\n",
              "      const a = document.createElement('a');\n",
              "      a.href = window.URL.createObjectURL(blob);\n",
              "      a.download = filename;\n",
              "      div.appendChild(a);\n",
              "      a.click();\n",
              "      div.remove();\n",
              "    }\n",
              "  "
            ]
          },
          "metadata": {}
        },
        {
          "output_type": "display_data",
          "data": {
            "text/plain": [
              "<IPython.core.display.Javascript object>"
            ],
            "application/javascript": [
              "download(\"download_9215ff6a-036f-41b3-80e8-90e738bf8f38\", \"listings_for_sale_All.csv\", 489310)"
            ]
          },
          "metadata": {}
        }
      ]
    }
  ]
}